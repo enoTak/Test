{
 "cells": [
  {
   "cell_type": "code",
   "execution_count": 20,
   "metadata": {},
   "outputs": [],
   "source": [
    "import numpy as np"
   ]
  },
  {
   "cell_type": "code",
   "execution_count": 21,
   "metadata": {},
   "outputs": [],
   "source": [
    "from numeric_ad import Variable"
   ]
  },
  {
   "cell_type": "code",
   "execution_count": 22,
   "metadata": {},
   "outputs": [
    {
     "name": "stdout",
     "output_type": "stream",
     "text": [
      "1.0\n"
     ]
    }
   ],
   "source": [
    "\n",
    "data = np.array(1.0)\n",
    "x = Variable(data)\n",
    "print(x.data)"
   ]
  },
  {
   "cell_type": "code",
   "execution_count": 23,
   "metadata": {},
   "outputs": [
    {
     "name": "stdout",
     "output_type": "stream",
     "text": [
      "2.0\n"
     ]
    }
   ],
   "source": [
    "x.data = np.array(2.0)\n",
    "print(x.data)"
   ]
  },
  {
   "cell_type": "code",
   "execution_count": 24,
   "metadata": {},
   "outputs": [],
   "source": [
    "from numeric_ad import Function, Square"
   ]
  },
  {
   "cell_type": "code",
   "execution_count": 25,
   "metadata": {},
   "outputs": [
    {
     "name": "stdout",
     "output_type": "stream",
     "text": [
      "<class 'numeric_ad.core_simple.Variable'>\n",
      "100\n"
     ]
    }
   ],
   "source": [
    "x = Variable(np.array(10))\n",
    "f = Square()\n",
    "y = f(x)\n",
    "\n",
    "print(type(y))\n",
    "print(y.data)"
   ]
  },
  {
   "cell_type": "code",
   "execution_count": 26,
   "metadata": {},
   "outputs": [
    {
     "data": {
      "text/plain": [
       "numeric_ad.core_simple.Variable"
      ]
     },
     "execution_count": 26,
     "metadata": {},
     "output_type": "execute_result"
    }
   ],
   "source": [
    "y.__class__"
   ]
  },
  {
   "cell_type": "code",
   "execution_count": 27,
   "metadata": {},
   "outputs": [
    {
     "name": "stdout",
     "output_type": "stream",
     "text": [
      "<class 'numpy.ndarray'>\n"
     ]
    }
   ],
   "source": [
    "print(type(np.array(10)))"
   ]
  },
  {
   "cell_type": "code",
   "execution_count": 28,
   "metadata": {},
   "outputs": [],
   "source": [
    "import numpy as np"
   ]
  },
  {
   "cell_type": "code",
   "execution_count": 130,
   "metadata": {},
   "outputs": [],
   "source": [
    "d = 2\n",
    "p = 4\n",
    "mat = [np.random.randn(d, d) for i in range(0, p+1)]\n",
    "autocorrs = [X.T @ X for X in mat]"
   ]
  },
  {
   "cell_type": "code",
   "execution_count": 131,
   "metadata": {},
   "outputs": [],
   "source": [
    "e = np.eye(d, d)\n",
    "\n",
    "def Phi(coeffs, k):\n",
    "    ret = autocorrs[k]\n",
    "    for l in range(1, p+1):\n",
    "        ret = ret + coeffs[l-1] @ autocorrs[np.abs(k-l)]\n",
    "    return ret\n",
    "\n",
    "\n",
    "def grad_elem(coeffs, l, i, j):\n",
    "    assert l > 0\n",
    "    ret = np.zeros_like(autocorrs[0])\n",
    "    for k in range(1, p+1):\n",
    "        ret = ret + autocorrs[np.abs(k-l)] @ (Phi(coeffs, k).T)\n",
    "    return e[j].T @ ret @ e[i]\n",
    "\n",
    "\n",
    "def gradient(coeffs):\n",
    "    return [np.array([[grad_elem(coeffs, l, i, j) for j in range(d)] for i in range(d)]) for l in range(1, p+1)]"
   ]
  },
  {
   "cell_type": "code",
   "execution_count": 132,
   "metadata": {},
   "outputs": [],
   "source": [
    "coeffs = [np.random.randn(d, d) for i in range(1, p+1)]"
   ]
  },
  {
   "cell_type": "code",
   "execution_count": 133,
   "metadata": {},
   "outputs": [],
   "source": [
    "def loss(coeffs):\n",
    "    ret = 0.0\n",
    "    for l in range(1,p+1):\n",
    "        P = Phi(coeffs, l)\n",
    "        ret += np.trace(P.T @ P)\n",
    "    return ret"
   ]
  },
  {
   "cell_type": "code",
   "execution_count": 134,
   "metadata": {},
   "outputs": [],
   "source": [
    "# expect = -autocorrs[1] / autocorrs[0]\n",
    "# expect"
   ]
  },
  {
   "cell_type": "code",
   "execution_count": 135,
   "metadata": {},
   "outputs": [],
   "source": [
    "# Phi([expect], 1)"
   ]
  },
  {
   "cell_type": "code",
   "execution_count": 144,
   "metadata": {},
   "outputs": [
    {
     "name": "stdout",
     "output_type": "stream",
     "text": [
      "[array([[-0.51717162, -0.57827594],\n",
      "       [-0.87466872,  0.33279927]]), array([[ 0.26907431, -0.12513114],\n",
      "       [-0.57580393, -0.28387675]]), array([[-2.76951235,  1.07364821],\n",
      "       [ 0.5214606 , -0.14206041]]), array([[ 0.14377408, -0.2031109 ],\n",
      "       [-1.17681224,  0.76416779]])]\n",
      "118.55860302082588\n",
      "95.17073672140204\n",
      "1.5404560762491382\n",
      "0.25787638244188205\n",
      "0.048450244127909416\n",
      "0.009258762947606103\n",
      "0.0017745036090437891\n",
      "0.00034027264521699146\n",
      "6.525568080406941e-05\n",
      "1.2514605240974987e-05\n",
      "2.4000338794005734e-06\n",
      "4.602754863319795e-07\n",
      "8.827106489290042e-08\n",
      "1.6928516257045883e-08\n",
      "3.2465300390324863e-09\n",
      "6.226155405602374e-10\n",
      "1.1940444312102087e-10\n",
      "2.289923734181064e-11\n",
      "4.391587597408485e-12\n",
      "8.422132706132596e-13\n",
      "1.6151862534619903e-13\n"
     ]
    },
    {
     "data": {
      "text/plain": [
       "[array([[-0.52703012, -0.48385506],\n",
       "        [-0.98027266, -1.35312352]]),\n",
       " array([[-0.81811883,  0.76659693],\n",
       "        [ 1.31955933,  0.18834048]]),\n",
       " array([[ 0.04598175, -0.17626707],\n",
       "        [ 0.39396047,  1.32588357]]),\n",
       " array([[-0.50231195, -0.11876406],\n",
       "        [-0.81916309, -2.06709342]])]"
      ]
     },
     "execution_count": 144,
     "metadata": {},
     "output_type": "execute_result"
    }
   ],
   "source": [
    "iters = 5000\n",
    "lr = 0.005\n",
    "it_per_epoch = iters / 20\n",
    "\n",
    "coeffs = [np.random.randn(d, d) for i in range(1, p+1)]\n",
    "# coeffs = [expect]\n",
    "print(coeffs)\n",
    "print(loss(coeffs))\n",
    "\n",
    "for i in range(iters):\n",
    "    grads = gradient(coeffs)\n",
    "    for l in range(1, p+1):\n",
    "        coeffs[l-1] -= lr * grads[l-1]\n",
    "        \n",
    "    if i % it_per_epoch == 0:\n",
    "        print(loss(coeffs))\n",
    "\n",
    "coeffs"
   ]
  },
  {
   "cell_type": "code",
   "execution_count": 140,
   "metadata": {},
   "outputs": [
    {
     "data": {
      "text/plain": [
       "2.3873492276308332e-14"
      ]
     },
     "execution_count": 140,
     "metadata": {},
     "output_type": "execute_result"
    }
   ],
   "source": [
    "\n",
    "loss(coeffs)"
   ]
  },
  {
   "cell_type": "code",
   "execution_count": 143,
   "metadata": {},
   "outputs": [
    {
     "data": {
      "text/plain": [
       "array([[1.85144734e-08, 3.45279238e-08],\n",
       "       [3.95616982e-08, 7.37792094e-08]])"
      ]
     },
     "execution_count": 143,
     "metadata": {},
     "output_type": "execute_result"
    }
   ],
   "source": [
    "Phi(coeffs, 4)"
   ]
  },
  {
   "cell_type": "code",
   "execution_count": null,
   "metadata": {},
   "outputs": [],
   "source": []
  }
 ],
 "metadata": {
  "kernelspec": {
   "display_name": "Python 3.8.13 ('dzero')",
   "language": "python",
   "name": "python3"
  },
  "language_info": {
   "codemirror_mode": {
    "name": "ipython",
    "version": 3
   },
   "file_extension": ".py",
   "mimetype": "text/x-python",
   "name": "python",
   "nbconvert_exporter": "python",
   "pygments_lexer": "ipython3",
   "version": "3.8.13"
  },
  "orig_nbformat": 4,
  "vscode": {
   "interpreter": {
    "hash": "edf2fbde3eac22bc8b50dca421b705d1e22162b604b8df1bcec4edebd02cedeb"
   }
  }
 },
 "nbformat": 4,
 "nbformat_minor": 2
}
